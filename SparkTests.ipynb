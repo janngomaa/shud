{
 "cells": [
  {
   "cell_type": "code",
   "execution_count": 25,
   "metadata": {},
   "outputs": [
    {
     "name": "stdout",
     "output_type": "stream",
     "text": [
      "\n",
      "https://amazon.com/xx\n",
      "Réussi\n",
      "https://patate.com/xx\n"
     ]
    }
   ],
   "source": [
    "from pyspark.sql import SparkSession\n",
    "import re\n",
    "\n",
    "spark = SparkSession \\\n",
    "    .builder \\\n",
    "    .appName(\"Python Spark SQL shud\") \\\n",
    "    .config(\"spark.some.config.option\", \"some-value\") \\\n",
    "    .getOrCreate()\n",
    "    \n",
    "    \n",
    "initList = [(\"\", \"\")]\n",
    "\n",
    "df = spark.createDataFrame(initList, schema=[\"url\", \"parsed\"])\n",
    "df = df.union(spark.createDataFrame([(\"https://amazon.com/xx\", \"false\")]))\n",
    "df = df.union(spark.createDataFrame([(\"https://patate.com/xx\", \"true\")]))\n",
    "df = df.dropDuplicates()\n",
    "#f.show()\n",
    "for row in df.rdd.collect():\n",
    "    print(row[0])\n",
    "    if 'amazon' in row[0] :\n",
    "        print(\"Réussi\")    "
   ]
  },
  {
   "cell_type": "code",
   "execution_count": null,
   "metadata": {},
   "outputs": [],
   "source": []
  },
  {
   "cell_type": "code",
   "execution_count": null,
   "metadata": {},
   "outputs": [],
   "source": []
  }
 ],
 "metadata": {
  "kernelspec": {
   "display_name": "Python 3",
   "language": "python",
   "name": "python3"
  },
  "language_info": {
   "codemirror_mode": {
    "name": "ipython",
    "version": 3
   },
   "file_extension": ".py",
   "mimetype": "text/x-python",
   "name": "python",
   "nbconvert_exporter": "python",
   "pygments_lexer": "ipython3",
   "version": "3.6.3"
  }
 },
 "nbformat": 4,
 "nbformat_minor": 2
}
