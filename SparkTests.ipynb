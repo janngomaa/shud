{
 "cells": [
  {
   "cell_type": "code",
   "execution_count": 25,
   "metadata": {},
   "outputs": [
    {
     "name": "stdout",
     "output_type": "stream",
     "text": [
      "\n",
      "https://amazon.com/xx\n",
      "Réussi\n",
      "https://patate.com/xx\n"
     ]
    }
   ],
   "source": [
    "from pyspark.sql import SparkSession, SQLContext\n",
    "\n",
    "spark = SparkSession \\\n",
    "    .builder \\\n",
    "    .appName(\"shud\") \\\n",
    "    .config(\"spark.some.config.option\", \"some-value\") \\\n",
    "    .getOrCreate()\n",
    "    \n",
    "sqlContext = SQLContext(spark)    \n",
    "initList = [(\"\", \"\")]\n",
    "\n",
    "\n",
    "df = spark.createDataFrame(initList, schema=[\"url\", \"parsed\"])\n",
    "df = df.union(spark.createDataFrame([(\"https://amazon.com/xx\", \"false\")]))\n",
    "df = df.union(spark.createDataFrame([(\"https://amazon.com/xx\", \"false\")]))\n",
    "df = df.union(spark.createDataFrame([(\"https://amazon.com/xy\", \"false\")]))\n",
    "df = df.dropDuplicates()\n",
    "\n",
    "#df.show()\n",
    "\n",
    "sqlContext.registerDataFrameAsTable(df, \"UrlList\")\n",
    "#tt = \"table1\" in sqlContext.tableNames()\n",
    "#df2 = sqlContext.sql(\"SELECT url, parsed from UrlList where parsed = 'false'\")\n",
    "#df2.collect()\n",
    "\n",
    "l = ['x','y']\n",
    "df = spark.createDataFrame((l, 'false'), schema=[\"url\", \"parsed\"])\n",
    "df.show() "
   ]
  },
  {
   "cell_type": "code",
   "execution_count": null,
   "metadata": {},
   "outputs": [],
   "source": []
  },
  {
   "cell_type": "code",
   "execution_count": null,
   "metadata": {},
   "outputs": [],
   "source": []
  }
 ],
 "metadata": {
  "kernelspec": {
   "display_name": "Python 3",
   "language": "python",
   "name": "python3"
  },
  "language_info": {
   "codemirror_mode": {
    "name": "ipython",
    "version": 3
   },
   "file_extension": ".py",
   "mimetype": "text/x-python",
   "name": "python",
   "nbconvert_exporter": "python",
   "pygments_lexer": "ipython3",
   "version": "3.6.3"
  }
 },
 "nbformat": 4,
 "nbformat_minor": 2
}
